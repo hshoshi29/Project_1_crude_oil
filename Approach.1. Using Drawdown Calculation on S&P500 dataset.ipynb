{
 "cells": [
  {
   "cell_type": "code",
   "execution_count": 44,
   "metadata": {},
   "outputs": [],
   "source": [
    "import numpy as np\n",
    "import pandas as pd\n",
    "import matplotlib.pyplot as plt\n",
    "import seaborn as sns\n",
    "%matplotlib inline\n",
    "import math as m"
   ]
  },
  {
   "cell_type": "code",
   "execution_count": 2,
   "metadata": {},
   "outputs": [],
   "source": [
    "df= pd.read_csv('S&P500_10.csv')"
   ]
  },
  {
   "cell_type": "code",
   "execution_count": 3,
   "metadata": {},
   "outputs": [
    {
     "data": {
      "text/html": [
       "<div>\n",
       "<style scoped>\n",
       "    .dataframe tbody tr th:only-of-type {\n",
       "        vertical-align: middle;\n",
       "    }\n",
       "\n",
       "    .dataframe tbody tr th {\n",
       "        vertical-align: top;\n",
       "    }\n",
       "\n",
       "    .dataframe thead th {\n",
       "        text-align: right;\n",
       "    }\n",
       "</style>\n",
       "<table border=\"1\" class=\"dataframe\">\n",
       "  <thead>\n",
       "    <tr style=\"text-align: right;\">\n",
       "      <th></th>\n",
       "      <th>Date</th>\n",
       "      <th>Open</th>\n",
       "      <th>High</th>\n",
       "      <th>Low</th>\n",
       "      <th>Close</th>\n",
       "      <th>Volume</th>\n",
       "    </tr>\n",
       "  </thead>\n",
       "  <tbody>\n",
       "    <tr>\n",
       "      <th>0</th>\n",
       "      <td>5/18/2009</td>\n",
       "      <td>886.070007</td>\n",
       "      <td>910.000000</td>\n",
       "      <td>886.070007</td>\n",
       "      <td>909.710022</td>\n",
       "      <td>5702150000</td>\n",
       "    </tr>\n",
       "    <tr>\n",
       "      <th>1</th>\n",
       "      <td>5/19/2009</td>\n",
       "      <td>909.669983</td>\n",
       "      <td>916.390015</td>\n",
       "      <td>905.219971</td>\n",
       "      <td>908.130005</td>\n",
       "      <td>6616270000</td>\n",
       "    </tr>\n",
       "    <tr>\n",
       "      <th>2</th>\n",
       "      <td>5/20/2009</td>\n",
       "      <td>908.619995</td>\n",
       "      <td>924.599976</td>\n",
       "      <td>901.369995</td>\n",
       "      <td>903.469971</td>\n",
       "      <td>8205060000</td>\n",
       "    </tr>\n",
       "    <tr>\n",
       "      <th>3</th>\n",
       "      <td>5/21/2009</td>\n",
       "      <td>900.419983</td>\n",
       "      <td>900.419983</td>\n",
       "      <td>879.609985</td>\n",
       "      <td>888.330017</td>\n",
       "      <td>6019840000</td>\n",
       "    </tr>\n",
       "    <tr>\n",
       "      <th>4</th>\n",
       "      <td>5/22/2009</td>\n",
       "      <td>888.679993</td>\n",
       "      <td>896.650024</td>\n",
       "      <td>883.750000</td>\n",
       "      <td>887.000000</td>\n",
       "      <td>5155320000</td>\n",
       "    </tr>\n",
       "  </tbody>\n",
       "</table>\n",
       "</div>"
      ],
      "text/plain": [
       "        Date        Open        High         Low       Close      Volume\n",
       "0  5/18/2009  886.070007  910.000000  886.070007  909.710022  5702150000\n",
       "1  5/19/2009  909.669983  916.390015  905.219971  908.130005  6616270000\n",
       "2  5/20/2009  908.619995  924.599976  901.369995  903.469971  8205060000\n",
       "3  5/21/2009  900.419983  900.419983  879.609985  888.330017  6019840000\n",
       "4  5/22/2009  888.679993  896.650024  883.750000  887.000000  5155320000"
      ]
     },
     "execution_count": 3,
     "metadata": {},
     "output_type": "execute_result"
    }
   ],
   "source": [
    "df.head()"
   ]
  },
  {
   "cell_type": "code",
   "execution_count": 4,
   "metadata": {},
   "outputs": [
    {
     "data": {
      "text/html": [
       "<div>\n",
       "<style scoped>\n",
       "    .dataframe tbody tr th:only-of-type {\n",
       "        vertical-align: middle;\n",
       "    }\n",
       "\n",
       "    .dataframe tbody tr th {\n",
       "        vertical-align: top;\n",
       "    }\n",
       "\n",
       "    .dataframe thead th {\n",
       "        text-align: right;\n",
       "    }\n",
       "</style>\n",
       "<table border=\"1\" class=\"dataframe\">\n",
       "  <thead>\n",
       "    <tr style=\"text-align: right;\">\n",
       "      <th></th>\n",
       "      <th>Date</th>\n",
       "      <th>Open</th>\n",
       "      <th>High</th>\n",
       "      <th>Low</th>\n",
       "      <th>Close</th>\n",
       "      <th>Volume</th>\n",
       "      <th>year</th>\n",
       "    </tr>\n",
       "  </thead>\n",
       "  <tbody>\n",
       "    <tr>\n",
       "      <th>0</th>\n",
       "      <td>2009-05-18</td>\n",
       "      <td>886.070007</td>\n",
       "      <td>910.000000</td>\n",
       "      <td>886.070007</td>\n",
       "      <td>909.710022</td>\n",
       "      <td>5702150000</td>\n",
       "      <td>2009</td>\n",
       "    </tr>\n",
       "    <tr>\n",
       "      <th>1</th>\n",
       "      <td>2009-05-19</td>\n",
       "      <td>909.669983</td>\n",
       "      <td>916.390015</td>\n",
       "      <td>905.219971</td>\n",
       "      <td>908.130005</td>\n",
       "      <td>6616270000</td>\n",
       "      <td>2009</td>\n",
       "    </tr>\n",
       "    <tr>\n",
       "      <th>2</th>\n",
       "      <td>2009-05-20</td>\n",
       "      <td>908.619995</td>\n",
       "      <td>924.599976</td>\n",
       "      <td>901.369995</td>\n",
       "      <td>903.469971</td>\n",
       "      <td>8205060000</td>\n",
       "      <td>2009</td>\n",
       "    </tr>\n",
       "    <tr>\n",
       "      <th>3</th>\n",
       "      <td>2009-05-21</td>\n",
       "      <td>900.419983</td>\n",
       "      <td>900.419983</td>\n",
       "      <td>879.609985</td>\n",
       "      <td>888.330017</td>\n",
       "      <td>6019840000</td>\n",
       "      <td>2009</td>\n",
       "    </tr>\n",
       "    <tr>\n",
       "      <th>4</th>\n",
       "      <td>2009-05-22</td>\n",
       "      <td>888.679993</td>\n",
       "      <td>896.650024</td>\n",
       "      <td>883.750000</td>\n",
       "      <td>887.000000</td>\n",
       "      <td>5155320000</td>\n",
       "      <td>2009</td>\n",
       "    </tr>\n",
       "  </tbody>\n",
       "</table>\n",
       "</div>"
      ],
      "text/plain": [
       "        Date        Open        High         Low       Close      Volume  year\n",
       "0 2009-05-18  886.070007  910.000000  886.070007  909.710022  5702150000  2009\n",
       "1 2009-05-19  909.669983  916.390015  905.219971  908.130005  6616270000  2009\n",
       "2 2009-05-20  908.619995  924.599976  901.369995  903.469971  8205060000  2009\n",
       "3 2009-05-21  900.419983  900.419983  879.609985  888.330017  6019840000  2009\n",
       "4 2009-05-22  888.679993  896.650024  883.750000  887.000000  5155320000  2009"
      ]
     },
     "execution_count": 4,
     "metadata": {},
     "output_type": "execute_result"
    }
   ],
   "source": [
    "# make separate column for year, to plot yearly close prices\n",
    "df['Date']= pd.to_datetime(df['Date'])\n",
    "df['year']= df.Date.apply(lambda x:x.year)\n",
    "df.head()\n",
    "#df['month']= df.Date.apply(lambda x:x.month)\n",
    "#df['day of month']= df.Date.apply(lambda x:x.day)"
   ]
  },
  {
   "cell_type": "code",
   "execution_count": 5,
   "metadata": {},
   "outputs": [
    {
     "data": {
      "text/plain": [
       "Timestamp('2009-05-21 00:00:00')"
      ]
     },
     "execution_count": 5,
     "metadata": {},
     "output_type": "execute_result"
    }
   ],
   "source": [
    "df['Date'][3]"
   ]
  },
  {
   "cell_type": "code",
   "execution_count": 6,
   "metadata": {
    "scrolled": false
   },
   "outputs": [
    {
     "data": {
      "text/plain": [
       "year\n",
       "2009    AxesSubplot(0.125,0.2;0.775x0.68)\n",
       "2010    AxesSubplot(0.125,0.2;0.775x0.68)\n",
       "2011    AxesSubplot(0.125,0.2;0.775x0.68)\n",
       "2012    AxesSubplot(0.125,0.2;0.775x0.68)\n",
       "2013    AxesSubplot(0.125,0.2;0.775x0.68)\n",
       "2014    AxesSubplot(0.125,0.2;0.775x0.68)\n",
       "2015    AxesSubplot(0.125,0.2;0.775x0.68)\n",
       "2016    AxesSubplot(0.125,0.2;0.775x0.68)\n",
       "2017    AxesSubplot(0.125,0.2;0.775x0.68)\n",
       "2018    AxesSubplot(0.125,0.2;0.775x0.68)\n",
       "2019    AxesSubplot(0.125,0.2;0.775x0.68)\n",
       "dtype: object"
      ]
     },
     "execution_count": 6,
     "metadata": {},
     "output_type": "execute_result"
    },
    {
     "data": {
      "image/png": "[encoded data removed]",
      "text/plain": [
       "<Figure size 864x216 with 1 Axes>"
      ]
     },
     "metadata": {
      "needs_background": "light"
     },
     "output_type": "display_data"
    },
    {
     "data": {
      "image/png": "[encoded data removed]",
      "text/plain": [
       "<Figure size 864x216 with 1 Axes>"
      ]
     },
     "metadata": {
      "needs_background": "light"
     },
     "output_type": "display_data"
    },
    {
     "data": {
      "image/png": "[encoded data removed]",
      "text/plain": [
       "<Figure size 864x216 with 1 Axes>"
      ]
     },
     "metadata": {
      "needs_background": "light"
     },
     "output_type": "display_data"
    },
    {
     "data": {
      "image/png": "[encoded data removed]",
      "text/plain": [
       "<Figure size 864x216 with 1 Axes>"
      ]
     },
     "metadata": {
      "needs_background": "light"
     },
     "output_type": "display_data"
    },
    {
     "data": {
      "image/png": "[encoded data removed]",
      "text/plain": [
       "<Figure size 864x216 with 1 Axes>"
      ]
     },
     "metadata": {
      "needs_background": "light"
     },
     "output_type": "display_data"
    },
    {
     "data": {
      "image/png": "[encoded data removed]",
      "text/plain": [
       "<Figure size 864x216 with 1 Axes>"
      ]
     },
     "metadata": {
      "needs_background": "light"
     },
     "output_type": "display_data"
    },
    {
     "data": {
      "image/png": "[encoded data removed]",
      "text/plain": [
       "<Figure size 864x216 with 1 Axes>"
      ]
     },
     "metadata": {
      "needs_background": "light"
     },
     "output_type": "display_data"
    },
    {
     "data": {
      "image/png": "[encoded data removed]",
      "text/plain": [
       "<Figure size 864x216 with 1 Axes>"
      ]
     },
     "metadata": {
      "needs_background": "light"
     },
     "output_type": "display_data"
    },
    {
     "data": {
      "image/png": "[encoded data removed]",
      "text/plain": [
       "<Figure size 864x216 with 1 Axes>"
      ]
     },
     "metadata": {
      "needs_background": "light"
     },
     "output_type": "display_data"
    },
    {
     "data": {
      "image/png": "[encoded data removed]",
      "text/plain": [
       "<Figure size 864x216 with 1 Axes>"
      ]
     },
     "metadata": {
      "needs_background": "light"
     },
     "output_type": "display_data"
    },
    {
     "data": {
      "image/png": "[encoded data removed]",
      "text/plain": [
       "<Figure size 864x216 with 1 Axes>"
      ]
     },
     "metadata": {
      "needs_background": "light"
     },
     "output_type": "display_data"
    }
   ],
   "source": [
    "byyear= df.groupby('year')\n",
    "byyear.plot(x='Date', y='Close', figsize= (12,3))"
   ]
  },
  {
   "cell_type": "code",
   "execution_count": null,
   "metadata": {},
   "outputs": [],
   "source": []
  },
  {
   "cell_type": "code",
   "execution_count": 7,
   "metadata": {},
   "outputs": [],
   "source": [
    "# DRAWDOWNS- \n",
    "#Drawdowns- a total loss over consecutive days from the last maximum\n",
    "# to the next minimum of the price. A drawdown occuring over n days \n",
    "#(the period from t1 to tn) is described as d= (p_min-p_max)/p_max with \n",
    "# p_max= p(t1)>p(t2)>...>p(tn)= p_min"
   ]
  },
  {
   "cell_type": "code",
   "execution_count": 8,
   "metadata": {},
   "outputs": [
    {
     "data": {
      "text/plain": [
       "1.330016999999998"
      ]
     },
     "execution_count": 8,
     "metadata": {},
     "output_type": "execute_result"
    }
   ],
   "source": [
    "df['Close'].diff(-1)[3] # daily change\n"
   ]
  },
  {
   "cell_type": "code",
   "execution_count": 9,
   "metadata": {},
   "outputs": [],
   "source": [
    "# this is where I want to find the difference between each close price, close[i]-close[i+1] \n",
    "# then denote -1 as p_min and +1 as p_max\n",
    "\n",
    "pmin_pmax= (df['Close'].diff(-1)>0).astype(int).diff()"
   ]
  },
  {
   "cell_type": "code",
   "execution_count": 10,
   "metadata": {},
   "outputs": [
    {
     "data": {
      "text/plain": [
       "0    NaN\n",
       "1    0.0\n",
       "2    0.0\n",
       "3    0.0\n",
       "4   -1.0\n",
       "5    1.0\n",
       "6   -1.0\n",
       "7    0.0\n",
       "8    0.0\n",
       "9    0.0\n",
       "Name: Close, dtype: float64"
      ]
     },
     "execution_count": 10,
     "metadata": {},
     "output_type": "execute_result"
    }
   ],
   "source": [
    "pmin_pmax[:10]"
   ]
  },
  {
   "cell_type": "code",
   "execution_count": 11,
   "metadata": {},
   "outputs": [],
   "source": [
    "# then create a list separating p_max and p_min\n",
    "pmax= pmin_pmax[pmin_pmax==1]\n",
    "pmin= pmin_pmax[pmin_pmax==-1]"
   ]
  },
  {
   "cell_type": "code",
   "execution_count": 12,
   "metadata": {},
   "outputs": [
    {
     "data": {
      "text/plain": [
       "Int64Index([   4,    6,   11,   14,   16,   21,   24,   28,   30,   32,\n",
       "            ...\n",
       "            2476, 2479, 2481, 2490, 2494, 2496, 2501, 2506, 2511, 2513],\n",
       "           dtype='int64', length=644)"
      ]
     },
     "execution_count": 12,
     "metadata": {},
     "output_type": "execute_result"
    }
   ],
   "source": [
    "pmin.index"
   ]
  },
  {
   "cell_type": "code",
   "execution_count": 13,
   "metadata": {},
   "outputs": [],
   "source": [
    "# use the pmax and pmin indices to determine if the intial pmin and the end pmax should\n",
    "# be used in the calculation of drawdown\n",
    "\n",
    "if pmin.index[0] < pmax.index[0]:\n",
    "    pmin= pmin.drop(pmin.index[0])\n",
    "if pmin.index[-1]< pmax.index[-1]:\n",
    "    pmax= pmax.drop(pmax.index[-1])\n",
    "    \n",
    "# use the definition of drawdown to compute drawdowns, D\n",
    "D= (np.array(df['Close'][pmin.index])- np.array(df['Close'][pmax.index]))/ np.array(df['Close'][pmax.index])"
   ]
  },
  {
   "cell_type": "code",
   "execution_count": 14,
   "metadata": {},
   "outputs": [
    {
     "data": {
      "text/plain": [
       "array([-0.01897116, -0.01373921, -0.0035227 , -0.00348033, -0.0375181 ,\n",
       "       -0.0306004 , -0.00147783, -0.00853076, -0.02914455, -0.02131918,\n",
       "       -0.00402183, -0.00038266, -0.00053428, -0.00715752, -0.00852186])"
      ]
     },
     "execution_count": 14,
     "metadata": {},
     "output_type": "execute_result"
    }
   ],
   "source": [
    "D[:15]"
   ]
  },
  {
   "cell_type": "code",
   "execution_count": 15,
   "metadata": {},
   "outputs": [
    {
     "data": {
      "text/plain": [
       "643"
      ]
     },
     "execution_count": 15,
     "metadata": {},
     "output_type": "execute_result"
    }
   ],
   "source": [
    "len(D)"
   ]
  },
  {
   "cell_type": "code",
   "execution_count": null,
   "metadata": {},
   "outputs": [],
   "source": [
    "# I want to see how long the drawdown lasted, and this step calculates the duration of D"
   ]
  },
  {
   "cell_type": "code",
   "execution_count": 16,
   "metadata": {},
   "outputs": [],
   "source": [
    "df['Date']= pd.to_datetime(df['Date']) "
   ]
  },
  {
   "cell_type": "code",
   "execution_count": 17,
   "metadata": {},
   "outputs": [],
   "source": [
    "duration=[np.busday_count(p1.date(), p2.date()) for p1, p2 in\\\n",
    "          zip(df['Date'][pmax.index], df['Date'][pmin.index])]\n",
    "\n",
    "#d_start= df['Date'][pmax.index]\n",
    "#d_end= df['Date'][pmin.index]"
   ]
  },
  {
   "cell_type": "code",
   "execution_count": 18,
   "metadata": {},
   "outputs": [],
   "source": [
    "# this step is for the table below\n",
    "\n",
    "dmap={'drawdown': D, 'duration': duration} #'d_start':d_start, 'd_end':d_end,\\\n",
    "df1= pd.DataFrame(dmap)\n",
    "df1= df1.set_index(df['Date'][pmax.index])"
   ]
  },
  {
   "cell_type": "code",
   "execution_count": 19,
   "metadata": {},
   "outputs": [
    {
     "data": {
      "text/html": [
       "<div>\n",
       "<style scoped>\n",
       "    .dataframe tbody tr th:only-of-type {\n",
       "        vertical-align: middle;\n",
       "    }\n",
       "\n",
       "    .dataframe tbody tr th {\n",
       "        vertical-align: top;\n",
       "    }\n",
       "\n",
       "    .dataframe thead th {\n",
       "        text-align: right;\n",
       "    }\n",
       "</style>\n",
       "<table border=\"1\" class=\"dataframe\">\n",
       "  <thead>\n",
       "    <tr style=\"text-align: right;\">\n",
       "      <th></th>\n",
       "      <th>drawdown</th>\n",
       "      <th>duration</th>\n",
       "    </tr>\n",
       "    <tr>\n",
       "      <th>Date</th>\n",
       "      <th></th>\n",
       "      <th></th>\n",
       "    </tr>\n",
       "  </thead>\n",
       "  <tbody>\n",
       "    <tr>\n",
       "      <th>2009-05-26</th>\n",
       "      <td>-0.018971</td>\n",
       "      <td>1</td>\n",
       "    </tr>\n",
       "    <tr>\n",
       "      <th>2009-06-02</th>\n",
       "      <td>-0.013739</td>\n",
       "      <td>1</td>\n",
       "    </tr>\n",
       "    <tr>\n",
       "      <th>2009-06-04</th>\n",
       "      <td>-0.003523</td>\n",
       "      <td>2</td>\n",
       "    </tr>\n",
       "    <tr>\n",
       "      <th>2009-06-09</th>\n",
       "      <td>-0.003480</td>\n",
       "      <td>1</td>\n",
       "    </tr>\n",
       "    <tr>\n",
       "      <th>2009-06-12</th>\n",
       "      <td>-0.037518</td>\n",
       "      <td>3</td>\n",
       "    </tr>\n",
       "  </tbody>\n",
       "</table>\n",
       "</div>"
      ],
      "text/plain": [
       "            drawdown  duration\n",
       "Date                          \n",
       "2009-05-26 -0.018971         1\n",
       "2009-06-02 -0.013739         1\n",
       "2009-06-04 -0.003523         2\n",
       "2009-06-09 -0.003480         1\n",
       "2009-06-12 -0.037518         3"
      ]
     },
     "execution_count": 19,
     "metadata": {},
     "output_type": "execute_result"
    }
   ],
   "source": [
    "df1.head()\n"
   ]
  },
  {
   "cell_type": "code",
   "execution_count": 20,
   "metadata": {},
   "outputs": [],
   "source": [
    "#df1['rank']=list(range(1, df1.shape[0]+1))"
   ]
  },
  {
   "cell_type": "code",
   "execution_count": null,
   "metadata": {},
   "outputs": [],
   "source": [
    "# this might be unnecessary, but this figure below shows the durations for the drawdowns"
   ]
  },
  {
   "cell_type": "code",
   "execution_count": 21,
   "metadata": {},
   "outputs": [
    {
     "data": {
      "text/plain": [
       "([<matplotlib.axis.XTick at 0x291e1611f98>,\n",
       "  <matplotlib.axis.XTick at 0x291e16118d0>,\n",
       "  <matplotlib.axis.XTick at 0x291e1611630>,\n",
       "  <matplotlib.axis.XTick at 0x291e1654b00>,\n",
       "  <matplotlib.axis.XTick at 0x291e1654f60>,\n",
       "  <matplotlib.axis.XTick at 0x291e1660470>,\n",
       "  <matplotlib.axis.XTick at 0x291e1660940>,\n",
       "  <matplotlib.axis.XTick at 0x291e1660e10>,\n",
       "  <matplotlib.axis.XTick at 0x291e1668320>],\n",
       " <a list of 9 Text xticklabel objects>)"
      ]
     },
     "execution_count": 21,
     "metadata": {},
     "output_type": "execute_result"
    },
    {
     "data": {
      "image/png": "[encoded data removed]",
      "text/plain": [
       "<Figure size 432x288 with 1 Axes>"
      ]
     },
     "metadata": {
      "needs_background": "light"
     },
     "output_type": "display_data"
    }
   ],
   "source": [
    "plt.bar(x=df1['duration'].value_counts().index, height= df1['duration'].value_counts()/df1['duration'].shape[0])\n",
    "plt.xlabel('duration in number of days')\n",
    "plt.xticks(df1['duration'].value_counts().index)\n",
    "\n",
    "# the duration of drawdown show how long drawdowns typically last. for s&p500 ~50% of the drawdown\n",
    "# lasted only one day, meaning that a price decrease from the previous to the current day is followed by \n",
    "# a price increase on the next following day."
   ]
  },
  {
   "cell_type": "code",
   "execution_count": null,
   "metadata": {},
   "outputs": [],
   "source": [
    "# from here onwards the crash like days calculation begins"
   ]
  },
  {
   "cell_type": "code",
   "execution_count": 22,
   "metadata": {},
   "outputs": [],
   "source": [
    "# adding daily change, drawdown and duration of drawdown to the original dataset\n",
    "df['Daily Change']= df['Close'].diff(1).fillna(0)\n",
    "df['Drawdown']= df['Date'].map(df1['drawdown']).fillna(0)\n",
    "df['Duration']= df['Date'].map(df1['duration']).fillna(0).astype(int)"
   ]
  },
  {
   "cell_type": "code",
   "execution_count": 23,
   "metadata": {},
   "outputs": [
    {
     "data": {
      "text/html": [
       "<div>\n",
       "<style scoped>\n",
       "    .dataframe tbody tr th:only-of-type {\n",
       "        vertical-align: middle;\n",
       "    }\n",
       "\n",
       "    .dataframe tbody tr th {\n",
       "        vertical-align: top;\n",
       "    }\n",
       "\n",
       "    .dataframe thead th {\n",
       "        text-align: right;\n",
       "    }\n",
       "</style>\n",
       "<table border=\"1\" class=\"dataframe\">\n",
       "  <thead>\n",
       "    <tr style=\"text-align: right;\">\n",
       "      <th></th>\n",
       "      <th>Date</th>\n",
       "      <th>Open</th>\n",
       "      <th>High</th>\n",
       "      <th>Low</th>\n",
       "      <th>Close</th>\n",
       "      <th>Volume</th>\n",
       "      <th>year</th>\n",
       "      <th>Daily Change</th>\n",
       "      <th>Drawdown</th>\n",
       "      <th>Duration</th>\n",
       "    </tr>\n",
       "  </thead>\n",
       "  <tbody>\n",
       "    <tr>\n",
       "      <th>0</th>\n",
       "      <td>2009-05-18</td>\n",
       "      <td>886.070007</td>\n",
       "      <td>910.000000</td>\n",
       "      <td>886.070007</td>\n",
       "      <td>909.710022</td>\n",
       "      <td>5702150000</td>\n",
       "      <td>2009</td>\n",
       "      <td>0.000000</td>\n",
       "      <td>0.000000</td>\n",
       "      <td>0</td>\n",
       "    </tr>\n",
       "    <tr>\n",
       "      <th>1</th>\n",
       "      <td>2009-05-19</td>\n",
       "      <td>909.669983</td>\n",
       "      <td>916.390015</td>\n",
       "      <td>905.219971</td>\n",
       "      <td>908.130005</td>\n",
       "      <td>6616270000</td>\n",
       "      <td>2009</td>\n",
       "      <td>-1.580017</td>\n",
       "      <td>0.000000</td>\n",
       "      <td>0</td>\n",
       "    </tr>\n",
       "    <tr>\n",
       "      <th>2</th>\n",
       "      <td>2009-05-20</td>\n",
       "      <td>908.619995</td>\n",
       "      <td>924.599976</td>\n",
       "      <td>901.369995</td>\n",
       "      <td>903.469971</td>\n",
       "      <td>8205060000</td>\n",
       "      <td>2009</td>\n",
       "      <td>-4.660034</td>\n",
       "      <td>0.000000</td>\n",
       "      <td>0</td>\n",
       "    </tr>\n",
       "    <tr>\n",
       "      <th>3</th>\n",
       "      <td>2009-05-21</td>\n",
       "      <td>900.419983</td>\n",
       "      <td>900.419983</td>\n",
       "      <td>879.609985</td>\n",
       "      <td>888.330017</td>\n",
       "      <td>6019840000</td>\n",
       "      <td>2009</td>\n",
       "      <td>-15.139954</td>\n",
       "      <td>0.000000</td>\n",
       "      <td>0</td>\n",
       "    </tr>\n",
       "    <tr>\n",
       "      <th>4</th>\n",
       "      <td>2009-05-22</td>\n",
       "      <td>888.679993</td>\n",
       "      <td>896.650024</td>\n",
       "      <td>883.750000</td>\n",
       "      <td>887.000000</td>\n",
       "      <td>5155320000</td>\n",
       "      <td>2009</td>\n",
       "      <td>-1.330017</td>\n",
       "      <td>0.000000</td>\n",
       "      <td>0</td>\n",
       "    </tr>\n",
       "    <tr>\n",
       "      <th>5</th>\n",
       "      <td>2009-05-26</td>\n",
       "      <td>887.000000</td>\n",
       "      <td>911.760010</td>\n",
       "      <td>881.460022</td>\n",
       "      <td>910.330017</td>\n",
       "      <td>5667050000</td>\n",
       "      <td>2009</td>\n",
       "      <td>23.330017</td>\n",
       "      <td>-0.018971</td>\n",
       "      <td>1</td>\n",
       "    </tr>\n",
       "    <tr>\n",
       "      <th>6</th>\n",
       "      <td>2009-05-27</td>\n",
       "      <td>909.950012</td>\n",
       "      <td>913.840027</td>\n",
       "      <td>891.869995</td>\n",
       "      <td>893.059998</td>\n",
       "      <td>5698800000</td>\n",
       "      <td>2009</td>\n",
       "      <td>-17.270019</td>\n",
       "      <td>0.000000</td>\n",
       "      <td>0</td>\n",
       "    </tr>\n",
       "    <tr>\n",
       "      <th>7</th>\n",
       "      <td>2009-05-28</td>\n",
       "      <td>892.960022</td>\n",
       "      <td>909.450012</td>\n",
       "      <td>887.599976</td>\n",
       "      <td>906.830017</td>\n",
       "      <td>5738980000</td>\n",
       "      <td>2009</td>\n",
       "      <td>13.770019</td>\n",
       "      <td>0.000000</td>\n",
       "      <td>0</td>\n",
       "    </tr>\n",
       "    <tr>\n",
       "      <th>8</th>\n",
       "      <td>2009-05-29</td>\n",
       "      <td>907.020020</td>\n",
       "      <td>920.020020</td>\n",
       "      <td>903.559998</td>\n",
       "      <td>919.140015</td>\n",
       "      <td>6050420000</td>\n",
       "      <td>2009</td>\n",
       "      <td>12.309998</td>\n",
       "      <td>0.000000</td>\n",
       "      <td>0</td>\n",
       "    </tr>\n",
       "    <tr>\n",
       "      <th>9</th>\n",
       "      <td>2009-06-01</td>\n",
       "      <td>923.260010</td>\n",
       "      <td>947.770020</td>\n",
       "      <td>923.260010</td>\n",
       "      <td>942.869995</td>\n",
       "      <td>6370440000</td>\n",
       "      <td>2009</td>\n",
       "      <td>23.729980</td>\n",
       "      <td>0.000000</td>\n",
       "      <td>0</td>\n",
       "    </tr>\n",
       "  </tbody>\n",
       "</table>\n",
       "</div>"
      ],
      "text/plain": [
       "        Date        Open        High         Low       Close      Volume  \\\n",
       "0 2009-05-18  886.070007  910.000000  886.070007  909.710022  5702150000   \n",
       "1 2009-05-19  909.669983  916.390015  905.219971  908.130005  6616270000   \n",
       "2 2009-05-20  908.619995  924.599976  901.369995  903.469971  8205060000   \n",
       "3 2009-05-21  900.419983  900.419983  879.609985  888.330017  6019840000   \n",
       "4 2009-05-22  888.679993  896.650024  883.750000  887.000000  5155320000   \n",
       "5 2009-05-26  887.000000  911.760010  881.460022  910.330017  5667050000   \n",
       "6 2009-05-27  909.950012  913.840027  891.869995  893.059998  5698800000   \n",
       "7 2009-05-28  892.960022  909.450012  887.599976  906.830017  5738980000   \n",
       "8 2009-05-29  907.020020  920.020020  903.559998  919.140015  6050420000   \n",
       "9 2009-06-01  923.260010  947.770020  923.260010  942.869995  6370440000   \n",
       "\n",
       "   year  Daily Change  Drawdown  Duration  \n",
       "0  2009      0.000000  0.000000         0  \n",
       "1  2009     -1.580017  0.000000         0  \n",
       "2  2009     -4.660034  0.000000         0  \n",
       "3  2009    -15.139954  0.000000         0  \n",
       "4  2009     -1.330017  0.000000         0  \n",
       "5  2009     23.330017 -0.018971         1  \n",
       "6  2009    -17.270019  0.000000         0  \n",
       "7  2009     13.770019  0.000000         0  \n",
       "8  2009     12.309998  0.000000         0  \n",
       "9  2009     23.729980  0.000000         0  "
      ]
     },
     "execution_count": 23,
     "metadata": {},
     "output_type": "execute_result"
    }
   ],
   "source": [
    "df.head(10)"
   ]
  },
  {
   "cell_type": "code",
   "execution_count": null,
   "metadata": {},
   "outputs": [],
   "source": []
  },
  {
   "cell_type": "code",
   "execution_count": 24,
   "metadata": {},
   "outputs": [],
   "source": [
    "# in this technique we will use duration as a measure of identifying crash \n",
    "# our threshold for duration will be more than two days\n",
    "\n",
    "dur=2\n",
    "def crash(x):\n",
    "    if x>= dur:\n",
    "        return 1\n",
    "    else:\n",
    "        return 0\n",
    "df['Crash']= df['Duration'].apply(crash)"
   ]
  },
  {
   "cell_type": "code",
   "execution_count": 25,
   "metadata": {},
   "outputs": [
    {
     "data": {
      "text/html": [
       "<div>\n",
       "<style scoped>\n",
       "    .dataframe tbody tr th:only-of-type {\n",
       "        vertical-align: middle;\n",
       "    }\n",
       "\n",
       "    .dataframe tbody tr th {\n",
       "        vertical-align: top;\n",
       "    }\n",
       "\n",
       "    .dataframe thead th {\n",
       "        text-align: right;\n",
       "    }\n",
       "</style>\n",
       "<table border=\"1\" class=\"dataframe\">\n",
       "  <thead>\n",
       "    <tr style=\"text-align: right;\">\n",
       "      <th></th>\n",
       "      <th>Date</th>\n",
       "      <th>Open</th>\n",
       "      <th>High</th>\n",
       "      <th>Low</th>\n",
       "      <th>Close</th>\n",
       "      <th>Volume</th>\n",
       "      <th>year</th>\n",
       "      <th>Daily Change</th>\n",
       "      <th>Drawdown</th>\n",
       "      <th>Duration</th>\n",
       "      <th>Crash</th>\n",
       "    </tr>\n",
       "  </thead>\n",
       "  <tbody>\n",
       "    <tr>\n",
       "      <th>0</th>\n",
       "      <td>2009-05-18</td>\n",
       "      <td>886.070007</td>\n",
       "      <td>910.000000</td>\n",
       "      <td>886.070007</td>\n",
       "      <td>909.710022</td>\n",
       "      <td>5702150000</td>\n",
       "      <td>2009</td>\n",
       "      <td>0.000000</td>\n",
       "      <td>0.000000</td>\n",
       "      <td>0</td>\n",
       "      <td>0</td>\n",
       "    </tr>\n",
       "    <tr>\n",
       "      <th>1</th>\n",
       "      <td>2009-05-19</td>\n",
       "      <td>909.669983</td>\n",
       "      <td>916.390015</td>\n",
       "      <td>905.219971</td>\n",
       "      <td>908.130005</td>\n",
       "      <td>6616270000</td>\n",
       "      <td>2009</td>\n",
       "      <td>-1.580017</td>\n",
       "      <td>0.000000</td>\n",
       "      <td>0</td>\n",
       "      <td>0</td>\n",
       "    </tr>\n",
       "    <tr>\n",
       "      <th>2</th>\n",
       "      <td>2009-05-20</td>\n",
       "      <td>908.619995</td>\n",
       "      <td>924.599976</td>\n",
       "      <td>901.369995</td>\n",
       "      <td>903.469971</td>\n",
       "      <td>8205060000</td>\n",
       "      <td>2009</td>\n",
       "      <td>-4.660034</td>\n",
       "      <td>0.000000</td>\n",
       "      <td>0</td>\n",
       "      <td>0</td>\n",
       "    </tr>\n",
       "    <tr>\n",
       "      <th>3</th>\n",
       "      <td>2009-05-21</td>\n",
       "      <td>900.419983</td>\n",
       "      <td>900.419983</td>\n",
       "      <td>879.609985</td>\n",
       "      <td>888.330017</td>\n",
       "      <td>6019840000</td>\n",
       "      <td>2009</td>\n",
       "      <td>-15.139954</td>\n",
       "      <td>0.000000</td>\n",
       "      <td>0</td>\n",
       "      <td>0</td>\n",
       "    </tr>\n",
       "    <tr>\n",
       "      <th>4</th>\n",
       "      <td>2009-05-22</td>\n",
       "      <td>888.679993</td>\n",
       "      <td>896.650024</td>\n",
       "      <td>883.750000</td>\n",
       "      <td>887.000000</td>\n",
       "      <td>5155320000</td>\n",
       "      <td>2009</td>\n",
       "      <td>-1.330017</td>\n",
       "      <td>0.000000</td>\n",
       "      <td>0</td>\n",
       "      <td>0</td>\n",
       "    </tr>\n",
       "    <tr>\n",
       "      <th>5</th>\n",
       "      <td>2009-05-26</td>\n",
       "      <td>887.000000</td>\n",
       "      <td>911.760010</td>\n",
       "      <td>881.460022</td>\n",
       "      <td>910.330017</td>\n",
       "      <td>5667050000</td>\n",
       "      <td>2009</td>\n",
       "      <td>23.330017</td>\n",
       "      <td>-0.018971</td>\n",
       "      <td>1</td>\n",
       "      <td>0</td>\n",
       "    </tr>\n",
       "    <tr>\n",
       "      <th>6</th>\n",
       "      <td>2009-05-27</td>\n",
       "      <td>909.950012</td>\n",
       "      <td>913.840027</td>\n",
       "      <td>891.869995</td>\n",
       "      <td>893.059998</td>\n",
       "      <td>5698800000</td>\n",
       "      <td>2009</td>\n",
       "      <td>-17.270019</td>\n",
       "      <td>0.000000</td>\n",
       "      <td>0</td>\n",
       "      <td>0</td>\n",
       "    </tr>\n",
       "    <tr>\n",
       "      <th>7</th>\n",
       "      <td>2009-05-28</td>\n",
       "      <td>892.960022</td>\n",
       "      <td>909.450012</td>\n",
       "      <td>887.599976</td>\n",
       "      <td>906.830017</td>\n",
       "      <td>5738980000</td>\n",
       "      <td>2009</td>\n",
       "      <td>13.770019</td>\n",
       "      <td>0.000000</td>\n",
       "      <td>0</td>\n",
       "      <td>0</td>\n",
       "    </tr>\n",
       "    <tr>\n",
       "      <th>8</th>\n",
       "      <td>2009-05-29</td>\n",
       "      <td>907.020020</td>\n",
       "      <td>920.020020</td>\n",
       "      <td>903.559998</td>\n",
       "      <td>919.140015</td>\n",
       "      <td>6050420000</td>\n",
       "      <td>2009</td>\n",
       "      <td>12.309998</td>\n",
       "      <td>0.000000</td>\n",
       "      <td>0</td>\n",
       "      <td>0</td>\n",
       "    </tr>\n",
       "    <tr>\n",
       "      <th>9</th>\n",
       "      <td>2009-06-01</td>\n",
       "      <td>923.260010</td>\n",
       "      <td>947.770020</td>\n",
       "      <td>923.260010</td>\n",
       "      <td>942.869995</td>\n",
       "      <td>6370440000</td>\n",
       "      <td>2009</td>\n",
       "      <td>23.729980</td>\n",
       "      <td>0.000000</td>\n",
       "      <td>0</td>\n",
       "      <td>0</td>\n",
       "    </tr>\n",
       "    <tr>\n",
       "      <th>10</th>\n",
       "      <td>2009-06-02</td>\n",
       "      <td>942.869995</td>\n",
       "      <td>949.380005</td>\n",
       "      <td>938.460022</td>\n",
       "      <td>944.739990</td>\n",
       "      <td>5987340000</td>\n",
       "      <td>2009</td>\n",
       "      <td>1.869995</td>\n",
       "      <td>-0.013739</td>\n",
       "      <td>1</td>\n",
       "      <td>0</td>\n",
       "    </tr>\n",
       "    <tr>\n",
       "      <th>11</th>\n",
       "      <td>2009-06-03</td>\n",
       "      <td>942.510010</td>\n",
       "      <td>942.510010</td>\n",
       "      <td>923.849976</td>\n",
       "      <td>931.760010</td>\n",
       "      <td>5323770000</td>\n",
       "      <td>2009</td>\n",
       "      <td>-12.979980</td>\n",
       "      <td>0.000000</td>\n",
       "      <td>0</td>\n",
       "      <td>0</td>\n",
       "    </tr>\n",
       "    <tr>\n",
       "      <th>12</th>\n",
       "      <td>2009-06-04</td>\n",
       "      <td>932.489990</td>\n",
       "      <td>942.469971</td>\n",
       "      <td>929.320007</td>\n",
       "      <td>942.460022</td>\n",
       "      <td>5352890000</td>\n",
       "      <td>2009</td>\n",
       "      <td>10.700012</td>\n",
       "      <td>-0.003523</td>\n",
       "      <td>2</td>\n",
       "      <td>1</td>\n",
       "    </tr>\n",
       "    <tr>\n",
       "      <th>13</th>\n",
       "      <td>2009-06-05</td>\n",
       "      <td>945.669983</td>\n",
       "      <td>951.690002</td>\n",
       "      <td>934.130005</td>\n",
       "      <td>940.090027</td>\n",
       "      <td>5277910000</td>\n",
       "      <td>2009</td>\n",
       "      <td>-2.369995</td>\n",
       "      <td>0.000000</td>\n",
       "      <td>0</td>\n",
       "      <td>0</td>\n",
       "    </tr>\n",
       "    <tr>\n",
       "      <th>14</th>\n",
       "      <td>2009-06-08</td>\n",
       "      <td>938.119995</td>\n",
       "      <td>946.330017</td>\n",
       "      <td>926.440002</td>\n",
       "      <td>939.140015</td>\n",
       "      <td>4483430000</td>\n",
       "      <td>2009</td>\n",
       "      <td>-0.950012</td>\n",
       "      <td>0.000000</td>\n",
       "      <td>0</td>\n",
       "      <td>0</td>\n",
       "    </tr>\n",
       "    <tr>\n",
       "      <th>15</th>\n",
       "      <td>2009-06-09</td>\n",
       "      <td>940.349976</td>\n",
       "      <td>946.919983</td>\n",
       "      <td>936.150024</td>\n",
       "      <td>942.429993</td>\n",
       "      <td>4439950000</td>\n",
       "      <td>2009</td>\n",
       "      <td>3.289978</td>\n",
       "      <td>-0.003480</td>\n",
       "      <td>1</td>\n",
       "      <td>0</td>\n",
       "    </tr>\n",
       "    <tr>\n",
       "      <th>16</th>\n",
       "      <td>2009-06-10</td>\n",
       "      <td>942.729980</td>\n",
       "      <td>949.770020</td>\n",
       "      <td>927.969971</td>\n",
       "      <td>939.150024</td>\n",
       "      <td>5379420000</td>\n",
       "      <td>2009</td>\n",
       "      <td>-3.279969</td>\n",
       "      <td>0.000000</td>\n",
       "      <td>0</td>\n",
       "      <td>0</td>\n",
       "    </tr>\n",
       "    <tr>\n",
       "      <th>17</th>\n",
       "      <td>2009-06-11</td>\n",
       "      <td>939.039978</td>\n",
       "      <td>956.229980</td>\n",
       "      <td>939.039978</td>\n",
       "      <td>944.890015</td>\n",
       "      <td>5500840000</td>\n",
       "      <td>2009</td>\n",
       "      <td>5.739991</td>\n",
       "      <td>0.000000</td>\n",
       "      <td>0</td>\n",
       "      <td>0</td>\n",
       "    </tr>\n",
       "    <tr>\n",
       "      <th>18</th>\n",
       "      <td>2009-06-12</td>\n",
       "      <td>943.440002</td>\n",
       "      <td>946.299988</td>\n",
       "      <td>935.659973</td>\n",
       "      <td>946.210022</td>\n",
       "      <td>4528120000</td>\n",
       "      <td>2009</td>\n",
       "      <td>1.320007</td>\n",
       "      <td>-0.037518</td>\n",
       "      <td>3</td>\n",
       "      <td>1</td>\n",
       "    </tr>\n",
       "    <tr>\n",
       "      <th>19</th>\n",
       "      <td>2009-06-15</td>\n",
       "      <td>942.450012</td>\n",
       "      <td>942.450012</td>\n",
       "      <td>919.650024</td>\n",
       "      <td>923.719971</td>\n",
       "      <td>4697880000</td>\n",
       "      <td>2009</td>\n",
       "      <td>-22.490051</td>\n",
       "      <td>0.000000</td>\n",
       "      <td>0</td>\n",
       "      <td>0</td>\n",
       "    </tr>\n",
       "  </tbody>\n",
       "</table>\n",
       "</div>"
      ],
      "text/plain": [
       "         Date        Open        High         Low       Close      Volume  \\\n",
       "0  2009-05-18  886.070007  910.000000  886.070007  909.710022  5702150000   \n",
       "1  2009-05-19  909.669983  916.390015  905.219971  908.130005  6616270000   \n",
       "2  2009-05-20  908.619995  924.599976  901.369995  903.469971  8205060000   \n",
       "3  2009-05-21  900.419983  900.419983  879.609985  888.330017  6019840000   \n",
       "4  2009-05-22  888.679993  896.650024  883.750000  887.000000  5155320000   \n",
       "5  2009-05-26  887.000000  911.760010  881.460022  910.330017  5667050000   \n",
       "6  2009-05-27  909.950012  913.840027  891.869995  893.059998  5698800000   \n",
       "7  2009-05-28  892.960022  909.450012  887.599976  906.830017  5738980000   \n",
       "8  2009-05-29  907.020020  920.020020  903.559998  919.140015  6050420000   \n",
       "9  2009-06-01  923.260010  947.770020  923.260010  942.869995  6370440000   \n",
       "10 2009-06-02  942.869995  949.380005  938.460022  944.739990  5987340000   \n",
       "11 2009-06-03  942.510010  942.510010  923.849976  931.760010  5323770000   \n",
       "12 2009-06-04  932.489990  942.469971  929.320007  942.460022  5352890000   \n",
       "13 2009-06-05  945.669983  951.690002  934.130005  940.090027  5277910000   \n",
       "14 2009-06-08  938.119995  946.330017  926.440002  939.140015  4483430000   \n",
       "15 2009-06-09  940.349976  946.919983  936.150024  942.429993  4439950000   \n",
       "16 2009-06-10  942.729980  949.770020  927.969971  939.150024  5379420000   \n",
       "17 2009-06-11  939.039978  956.229980  939.039978  944.890015  5500840000   \n",
       "18 2009-06-12  943.440002  946.299988  935.659973  946.210022  4528120000   \n",
       "19 2009-06-15  942.450012  942.450012  919.650024  923.719971  4697880000   \n",
       "\n",
       "    year  Daily Change  Drawdown  Duration  Crash  \n",
       "0   2009      0.000000  0.000000         0      0  \n",
       "1   2009     -1.580017  0.000000         0      0  \n",
       "2   2009     -4.660034  0.000000         0      0  \n",
       "3   2009    -15.139954  0.000000         0      0  \n",
       "4   2009     -1.330017  0.000000         0      0  \n",
       "5   2009     23.330017 -0.018971         1      0  \n",
       "6   2009    -17.270019  0.000000         0      0  \n",
       "7   2009     13.770019  0.000000         0      0  \n",
       "8   2009     12.309998  0.000000         0      0  \n",
       "9   2009     23.729980  0.000000         0      0  \n",
       "10  2009      1.869995 -0.013739         1      0  \n",
       "11  2009    -12.979980  0.000000         0      0  \n",
       "12  2009     10.700012 -0.003523         2      1  \n",
       "13  2009     -2.369995  0.000000         0      0  \n",
       "14  2009     -0.950012  0.000000         0      0  \n",
       "15  2009      3.289978 -0.003480         1      0  \n",
       "16  2009     -3.279969  0.000000         0      0  \n",
       "17  2009      5.739991  0.000000         0      0  \n",
       "18  2009      1.320007 -0.037518         3      1  \n",
       "19  2009    -22.490051  0.000000         0      0  "
      ]
     },
     "execution_count": 25,
     "metadata": {},
     "output_type": "execute_result"
    }
   ],
   "source": [
    "df.head(20)"
   ]
  },
  {
   "cell_type": "code",
   "execution_count": 26,
   "metadata": {},
   "outputs": [
    {
     "data": {
      "text/plain": [
       "Date            291\n",
       "Open            291\n",
       "High            291\n",
       "Low             291\n",
       "Close           291\n",
       "Volume          291\n",
       "year            291\n",
       "Daily Change    291\n",
       "Drawdown        291\n",
       "Duration        291\n",
       "Crash           291\n",
       "dtype: int64"
      ]
     },
     "execution_count": 26,
     "metadata": {},
     "output_type": "execute_result"
    }
   ],
   "source": [
    "df[df['Crash']==1].count()"
   ]
  },
  {
   "cell_type": "code",
   "execution_count": 27,
   "metadata": {},
   "outputs": [],
   "source": [
    "lst= df[df['Crash']==1].index"
   ]
  },
  {
   "cell_type": "code",
   "execution_count": 28,
   "metadata": {},
   "outputs": [
    {
     "name": "stdout",
     "output_type": "stream",
     "text": [
      "2009-06-04 00:00:00\n",
      "2009-06-12 00:00:00\n",
      "2009-07-06 00:00:00\n",
      "2009-07-27 00:00:00\n",
      "2009-08-04 00:00:00\n",
      "2009-08-07 00:00:00\n",
      "2009-08-13 00:00:00\n",
      "2009-08-27 00:00:00\n",
      "2009-09-22 00:00:00\n",
      "2009-09-28 00:00:00\n",
      "2009-10-19 00:00:00\n",
      "2009-10-22 00:00:00\n",
      "2009-11-17 00:00:00\n",
      "2009-11-25 00:00:00\n",
      "2009-12-04 00:00:00\n",
      "2010-01-19 00:00:00\n",
      "2010-01-27 00:00:00\n",
      "2010-02-02 00:00:00\n",
      "2010-02-19 00:00:00\n",
      "2010-03-17 00:00:00\n",
      "2010-03-23 00:00:00\n",
      "2010-04-23 00:00:00\n",
      "2010-05-03 00:00:00\n",
      "2010-05-12 00:00:00\n",
      "2010-05-17 00:00:00\n",
      "2010-05-27 00:00:00\n",
      "2010-06-03 00:00:00\n",
      "2010-06-18 00:00:00\n",
      "2010-06-25 00:00:00\n",
      "2010-07-26 00:00:00\n",
      "2010-08-04 00:00:00\n",
      "2010-08-09 00:00:00\n",
      "2010-08-18 00:00:00\n",
      "2010-09-03 00:00:00\n",
      "2010-09-20 00:00:00\n",
      "2010-09-28 00:00:00\n",
      "2010-10-05 00:00:00\n",
      "2010-11-05 00:00:00\n",
      "2010-11-10 00:00:00\n",
      "2010-11-19 00:00:00\n",
      "2010-11-24 00:00:00\n",
      "2010-12-29 00:00:00\n",
      "2011-01-05 00:00:00\n",
      "2011-01-18 00:00:00\n",
      "2011-02-18 00:00:00\n",
      "2011-03-03 00:00:00\n",
      "2011-03-08 00:00:00\n",
      "2011-03-11 00:00:00\n",
      "2011-04-06 00:00:00\n",
      "2011-04-21 00:00:00\n",
      "2011-04-29 00:00:00\n",
      "2011-05-12 00:00:00\n",
      "2011-05-19 00:00:00\n",
      "2011-05-31 00:00:00\n",
      "2011-06-21 00:00:00\n",
      "2011-07-01 00:00:00\n",
      "2011-07-07 00:00:00\n",
      "2011-07-22 00:00:00\n",
      "2011-08-03 00:00:00\n",
      "2011-08-17 00:00:00\n",
      "2011-08-31 00:00:00\n",
      "2011-09-07 00:00:00\n",
      "2011-09-16 00:00:00\n",
      "2011-09-29 00:00:00\n",
      "2011-10-28 00:00:00\n",
      "2011-11-15 00:00:00\n",
      "2011-11-30 00:00:00\n",
      "2011-12-09 00:00:00\n",
      "2012-01-25 00:00:00\n",
      "2012-02-13 00:00:00\n",
      "2012-03-01 00:00:00\n",
      "2012-03-19 00:00:00\n",
      "2012-03-26 00:00:00\n",
      "2012-04-02 00:00:00\n",
      "2012-04-12 00:00:00\n",
      "2012-04-17 00:00:00\n",
      "2012-05-01 00:00:00\n",
      "2012-05-07 00:00:00\n",
      "2012-05-10 00:00:00\n",
      "2012-05-29 00:00:00\n",
      "2012-06-19 00:00:00\n",
      "2012-07-03 00:00:00\n",
      "2012-07-19 00:00:00\n",
      "2012-07-27 00:00:00\n",
      "2012-08-10 00:00:00\n",
      "2012-08-17 00:00:00\n",
      "2012-08-24 00:00:00\n",
      "2012-08-31 00:00:00\n",
      "2012-09-14 00:00:00\n",
      "2012-09-19 00:00:00\n",
      "2012-10-04 00:00:00\n",
      "2012-10-17 00:00:00\n",
      "2012-10-22 00:00:00\n",
      "2012-11-06 00:00:00\n",
      "2012-11-12 00:00:00\n",
      "2012-11-23 00:00:00\n",
      "2012-11-30 00:00:00\n",
      "2012-12-12 00:00:00\n",
      "2012-12-20 00:00:00\n",
      "2013-01-04 00:00:00\n",
      "2013-01-10 00:00:00\n",
      "2013-01-29 00:00:00\n",
      "2013-02-19 00:00:00\n",
      "2013-03-14 00:00:00\n",
      "2013-03-28 00:00:00\n",
      "2013-04-11 00:00:00\n",
      "2013-04-16 00:00:00\n",
      "2013-05-21 00:00:00\n",
      "2013-06-03 00:00:00\n",
      "2013-06-07 00:00:00\n",
      "2013-06-18 00:00:00\n",
      "2013-07-22 00:00:00\n",
      "2013-08-02 00:00:00\n",
      "2013-08-08 00:00:00\n",
      "2013-08-13 00:00:00\n",
      "2013-08-23 00:00:00\n",
      "2013-09-18 00:00:00\n",
      "2013-09-26 00:00:00\n",
      "2013-10-01 00:00:00\n",
      "2013-10-04 00:00:00\n",
      "2013-10-29 00:00:00\n",
      "2013-11-15 00:00:00\n",
      "2013-11-27 00:00:00\n",
      "2013-12-09 00:00:00\n",
      "2013-12-26 00:00:00\n",
      "2013-12-31 00:00:00\n",
      "2014-01-15 00:00:00\n",
      "2014-01-22 00:00:00\n",
      "2014-01-30 00:00:00\n",
      "2014-03-07 00:00:00\n",
      "2014-03-12 00:00:00\n",
      "2014-03-20 00:00:00\n",
      "2014-03-25 00:00:00\n",
      "2014-04-02 00:00:00\n",
      "2014-04-09 00:00:00\n",
      "2014-04-30 00:00:00\n",
      "2014-05-13 00:00:00\n",
      "2014-06-09 00:00:00\n",
      "2014-06-20 00:00:00\n",
      "2014-07-03 00:00:00\n",
      "2014-07-30 00:00:00\n",
      "2014-08-29 00:00:00\n",
      "2014-09-05 00:00:00\n",
      "2014-09-11 00:00:00\n",
      "2014-09-18 00:00:00\n",
      "2014-09-26 00:00:00\n",
      "2014-10-03 00:00:00\n",
      "2014-10-08 00:00:00\n",
      "2014-10-31 00:00:00\n",
      "2014-11-26 00:00:00\n",
      "2014-12-05 00:00:00\n",
      "2014-12-11 00:00:00\n",
      "2014-12-29 00:00:00\n",
      "2015-01-08 00:00:00\n",
      "2015-01-26 00:00:00\n",
      "2015-02-05 00:00:00\n",
      "2015-02-17 00:00:00\n",
      "2015-02-24 00:00:00\n",
      "2015-03-02 00:00:00\n",
      "2015-03-09 00:00:00\n",
      "2015-03-20 00:00:00\n",
      "2015-03-30 00:00:00\n",
      "2015-04-15 00:00:00\n",
      "2015-04-28 00:00:00\n",
      "2015-05-04 00:00:00\n",
      "2015-05-08 00:00:00\n",
      "2015-05-18 00:00:00\n",
      "2015-05-21 00:00:00\n",
      "2015-05-27 00:00:00\n",
      "2015-06-03 00:00:00\n",
      "2015-06-11 00:00:00\n",
      "2015-06-23 00:00:00\n",
      "2015-07-01 00:00:00\n",
      "2015-07-20 00:00:00\n",
      "2015-07-30 00:00:00\n",
      "2015-08-05 00:00:00\n",
      "2015-08-17 00:00:00\n",
      "2015-08-28 00:00:00\n",
      "2015-09-16 00:00:00\n",
      "2015-09-21 00:00:00\n",
      "2015-10-12 00:00:00\n",
      "2015-10-19 00:00:00\n",
      "2015-10-23 00:00:00\n",
      "2015-10-28 00:00:00\n",
      "2015-11-03 00:00:00\n",
      "2015-11-10 00:00:00\n",
      "2015-12-01 00:00:00\n",
      "2015-12-04 00:00:00\n",
      "2015-12-16 00:00:00\n",
      "2015-12-23 00:00:00\n",
      "2015-12-29 00:00:00\n",
      "2016-01-05 00:00:00\n",
      "2016-01-29 00:00:00\n",
      "2016-02-04 00:00:00\n",
      "2016-02-17 00:00:00\n",
      "2016-02-25 00:00:00\n",
      "2016-03-11 00:00:00\n",
      "2016-03-21 00:00:00\n",
      "2016-04-01 00:00:00\n",
      "2016-04-27 00:00:00\n",
      "2016-05-02 00:00:00\n",
      "2016-05-10 00:00:00\n",
      "2016-05-27 00:00:00\n",
      "2016-06-08 00:00:00\n",
      "2016-06-23 00:00:00\n",
      "2016-07-01 00:00:00\n",
      "2016-07-29 00:00:00\n",
      "2016-08-18 00:00:00\n",
      "2016-08-23 00:00:00\n",
      "2016-08-29 00:00:00\n",
      "2016-09-06 00:00:00\n",
      "2016-09-12 00:00:00\n",
      "2016-09-15 00:00:00\n",
      "2016-09-22 00:00:00\n",
      "2016-09-30 00:00:00\n",
      "2016-10-19 00:00:00\n",
      "2016-10-24 00:00:00\n",
      "2016-11-10 00:00:00\n",
      "2016-11-29 00:00:00\n",
      "2016-12-20 00:00:00\n",
      "2016-12-27 00:00:00\n",
      "2017-01-13 00:00:00\n",
      "2017-01-25 00:00:00\n",
      "2017-03-03 00:00:00\n",
      "2017-03-15 00:00:00\n",
      "2017-03-22 00:00:00\n",
      "2017-03-30 00:00:00\n",
      "2017-04-10 00:00:00\n",
      "2017-04-17 00:00:00\n",
      "2017-05-10 00:00:00\n",
      "2017-05-15 00:00:00\n",
      "2017-05-26 00:00:00\n",
      "2017-06-02 00:00:00\n",
      "2017-06-08 00:00:00\n",
      "2017-06-13 00:00:00\n",
      "2017-06-19 00:00:00\n",
      "2017-07-19 00:00:00\n",
      "2017-07-26 00:00:00\n",
      "2017-08-07 00:00:00\n",
      "2017-08-16 00:00:00\n",
      "2017-08-22 00:00:00\n",
      "2017-09-01 00:00:00\n",
      "2017-09-06 00:00:00\n",
      "2017-10-05 00:00:00\n",
      "2017-11-08 00:00:00\n",
      "2017-11-13 00:00:00\n",
      "2017-11-30 00:00:00\n",
      "2017-12-12 00:00:00\n",
      "2017-12-18 00:00:00\n",
      "2017-12-21 00:00:00\n",
      "2018-01-12 00:00:00\n",
      "2018-01-26 00:00:00\n",
      "2018-01-31 00:00:00\n",
      "2018-02-06 00:00:00\n",
      "2018-02-16 00:00:00\n",
      "2018-02-26 00:00:00\n",
      "2018-03-09 00:00:00\n",
      "2018-03-20 00:00:00\n",
      "2018-03-26 00:00:00\n",
      "2018-03-29 00:00:00\n",
      "2018-04-18 00:00:00\n",
      "2018-05-01 00:00:00\n",
      "2018-05-16 00:00:00\n",
      "2018-05-23 00:00:00\n",
      "2018-06-14 00:00:00\n",
      "2018-07-18 00:00:00\n",
      "2018-07-25 00:00:00\n",
      "2018-08-07 00:00:00\n",
      "2018-08-21 00:00:00\n",
      "2018-08-31 00:00:00\n",
      "2018-09-20 00:00:00\n",
      "2018-10-03 00:00:00\n",
      "2018-10-16 00:00:00\n",
      "2018-10-25 00:00:00\n",
      "2018-11-07 00:00:00\n",
      "2018-11-16 00:00:00\n",
      "2018-11-21 00:00:00\n",
      "2018-12-03 00:00:00\n",
      "2018-12-12 00:00:00\n",
      "2018-12-18 00:00:00\n",
      "2019-01-10 00:00:00\n",
      "2019-01-18 00:00:00\n",
      "2019-01-25 00:00:00\n",
      "2019-02-05 00:00:00\n",
      "2019-02-25 00:00:00\n",
      "2019-03-01 00:00:00\n",
      "2019-03-18 00:00:00\n",
      "2019-03-21 00:00:00\n",
      "2019-04-23 00:00:00\n",
      "2019-04-30 00:00:00\n",
      "2019-05-03 00:00:00\n"
     ]
    }
   ],
   "source": [
    "for i in lst:\n",
    "    print(df.iloc[i]['Date'])"
   ]
  },
  {
   "cell_type": "code",
   "execution_count": 29,
   "metadata": {},
   "outputs": [
    {
     "data": {
      "text/plain": [
       "<matplotlib.axes._subplots.AxesSubplot at 0x291e16ac160>"
      ]
     },
     "execution_count": 29,
     "metadata": {},
     "output_type": "execute_result"
    },
    {
     "data": {
      "image/png": "[encoded data removed]",
      "text/plain": [
       "<Figure size 1008x360 with 1 Axes>"
      ]
     },
     "metadata": {
      "needs_background": "light"
     },
     "output_type": "display_data"
    }
   ],
   "source": [
    "df.plot(x=\"Date\", y=\"Crash\", figsize=(14,5))"
   ]
  },
  {
   "cell_type": "code",
   "execution_count": null,
   "metadata": {},
   "outputs": [],
   "source": []
  },
  {
   "cell_type": "code",
   "execution_count": 30,
   "metadata": {},
   "outputs": [],
   "source": [
    "column_names=[\"Daily Change 1\",\"Daily Change 2\",\"Daily Change 3\",\"Daily Change 4\",\"Daily Change 5\",\"Daily Change 6\",\"Daily Change 7\",\"Daily Change 8\",\"Daily Change 9\"]\n",
    "rows_list=[]\n",
    "for i in range(df.shape[0]-8):\n",
    "    lst=[]\n",
    "    for j in range(9): \n",
    "        lst.append(df[\"Daily Change\"][i+j])\n",
    "        \n",
    "    dictionary = dict(zip(column_names, lst))\n",
    "    rows_list.append(dictionary)\n",
    "df3=pd.DataFrame(rows_list) "
   ]
  },
  {
   "cell_type": "code",
   "execution_count": 31,
   "metadata": {},
   "outputs": [
    {
     "data": {
      "text/plain": [
       "(2508, 9)"
      ]
     },
     "execution_count": 31,
     "metadata": {},
     "output_type": "execute_result"
    }
   ],
   "source": [
    "df3.shape"
   ]
  },
  {
   "cell_type": "code",
   "execution_count": 32,
   "metadata": {},
   "outputs": [
    {
     "data": {
      "text/html": [
       "<div>\n",
       "<style scoped>\n",
       "    .dataframe tbody tr th:only-of-type {\n",
       "        vertical-align: middle;\n",
       "    }\n",
       "\n",
       "    .dataframe tbody tr th {\n",
       "        vertical-align: top;\n",
       "    }\n",
       "\n",
       "    .dataframe thead th {\n",
       "        text-align: right;\n",
       "    }\n",
       "</style>\n",
       "<table border=\"1\" class=\"dataframe\">\n",
       "  <thead>\n",
       "    <tr style=\"text-align: right;\">\n",
       "      <th></th>\n",
       "      <th>Daily Change 1</th>\n",
       "      <th>Daily Change 2</th>\n",
       "      <th>Daily Change 3</th>\n",
       "      <th>Daily Change 4</th>\n",
       "      <th>Daily Change 5</th>\n",
       "      <th>Daily Change 6</th>\n",
       "      <th>Daily Change 7</th>\n",
       "      <th>Daily Change 8</th>\n",
       "      <th>Daily Change 9</th>\n",
       "    </tr>\n",
       "  </thead>\n",
       "  <tbody>\n",
       "    <tr>\n",
       "      <th>0</th>\n",
       "      <td>0.000000</td>\n",
       "      <td>-1.580017</td>\n",
       "      <td>-4.660034</td>\n",
       "      <td>-15.139954</td>\n",
       "      <td>-1.330017</td>\n",
       "      <td>23.330017</td>\n",
       "      <td>-17.270019</td>\n",
       "      <td>13.770019</td>\n",
       "      <td>12.309998</td>\n",
       "    </tr>\n",
       "    <tr>\n",
       "      <th>1</th>\n",
       "      <td>-1.580017</td>\n",
       "      <td>-4.660034</td>\n",
       "      <td>-15.139954</td>\n",
       "      <td>-1.330017</td>\n",
       "      <td>23.330017</td>\n",
       "      <td>-17.270019</td>\n",
       "      <td>13.770019</td>\n",
       "      <td>12.309998</td>\n",
       "      <td>23.729980</td>\n",
       "    </tr>\n",
       "    <tr>\n",
       "      <th>2</th>\n",
       "      <td>-4.660034</td>\n",
       "      <td>-15.139954</td>\n",
       "      <td>-1.330017</td>\n",
       "      <td>23.330017</td>\n",
       "      <td>-17.270019</td>\n",
       "      <td>13.770019</td>\n",
       "      <td>12.309998</td>\n",
       "      <td>23.729980</td>\n",
       "      <td>1.869995</td>\n",
       "    </tr>\n",
       "    <tr>\n",
       "      <th>3</th>\n",
       "      <td>-15.139954</td>\n",
       "      <td>-1.330017</td>\n",
       "      <td>23.330017</td>\n",
       "      <td>-17.270019</td>\n",
       "      <td>13.770019</td>\n",
       "      <td>12.309998</td>\n",
       "      <td>23.729980</td>\n",
       "      <td>1.869995</td>\n",
       "      <td>-12.979980</td>\n",
       "    </tr>\n",
       "    <tr>\n",
       "      <th>4</th>\n",
       "      <td>-1.330017</td>\n",
       "      <td>23.330017</td>\n",
       "      <td>-17.270019</td>\n",
       "      <td>13.770019</td>\n",
       "      <td>12.309998</td>\n",
       "      <td>23.729980</td>\n",
       "      <td>1.869995</td>\n",
       "      <td>-12.979980</td>\n",
       "      <td>10.700012</td>\n",
       "    </tr>\n",
       "  </tbody>\n",
       "</table>\n",
       "</div>"
      ],
      "text/plain": [
       "   Daily Change 1  Daily Change 2  Daily Change 3  Daily Change 4  \\\n",
       "0        0.000000       -1.580017       -4.660034      -15.139954   \n",
       "1       -1.580017       -4.660034      -15.139954       -1.330017   \n",
       "2       -4.660034      -15.139954       -1.330017       23.330017   \n",
       "3      -15.139954       -1.330017       23.330017      -17.270019   \n",
       "4       -1.330017       23.330017      -17.270019       13.770019   \n",
       "\n",
       "   Daily Change 5  Daily Change 6  Daily Change 7  Daily Change 8  \\\n",
       "0       -1.330017       23.330017      -17.270019       13.770019   \n",
       "1       23.330017      -17.270019       13.770019       12.309998   \n",
       "2      -17.270019       13.770019       12.309998       23.729980   \n",
       "3       13.770019       12.309998       23.729980        1.869995   \n",
       "4       12.309998       23.729980        1.869995      -12.979980   \n",
       "\n",
       "   Daily Change 9  \n",
       "0       12.309998  \n",
       "1       23.729980  \n",
       "2        1.869995  \n",
       "3      -12.979980  \n",
       "4       10.700012  "
      ]
     },
     "execution_count": 32,
     "metadata": {},
     "output_type": "execute_result"
    }
   ],
   "source": [
    "df3.head()"
   ]
  },
  {
   "cell_type": "code",
   "execution_count": 33,
   "metadata": {},
   "outputs": [],
   "source": [
    "def has_crash(index):\n",
    "    crash_count=0\n",
    "    for i in range(index+9,index+18):\n",
    "        if df[\"Crash\"][i]==1:\n",
    "            crash_count+=1\n",
    "    if crash_count>1:\n",
    "        return 1\n",
    "    else:\n",
    "        return 0"
   ]
  },
  {
   "cell_type": "code",
   "execution_count": 34,
   "metadata": {},
   "outputs": [
    {
     "data": {
      "text/plain": [
       "2508"
      ]
     },
     "execution_count": 34,
     "metadata": {},
     "output_type": "execute_result"
    }
   ],
   "source": [
    "crash_day=[]\n",
    "\n",
    "for i in range(df3.shape[0]-9):\n",
    "    crash_day.append(has_crash(i))\n",
    "for i in range(df3.shape[0]-9, df3.shape[0]): #    Entering 0 for the last 7 days  \n",
    "    crash_day.append(0)\n",
    "len(crash_day)"
   ]
  },
  {
   "cell_type": "code",
   "execution_count": 35,
   "metadata": {},
   "outputs": [],
   "source": [
    "df3['Target']= crash_day"
   ]
  },
  {
   "cell_type": "code",
   "execution_count": 36,
   "metadata": {},
   "outputs": [
    {
     "data": {
      "text/html": [
       "<div>\n",
       "<style scoped>\n",
       "    .dataframe tbody tr th:only-of-type {\n",
       "        vertical-align: middle;\n",
       "    }\n",
       "\n",
       "    .dataframe tbody tr th {\n",
       "        vertical-align: top;\n",
       "    }\n",
       "\n",
       "    .dataframe thead th {\n",
       "        text-align: right;\n",
       "    }\n",
       "</style>\n",
       "<table border=\"1\" class=\"dataframe\">\n",
       "  <thead>\n",
       "    <tr style=\"text-align: right;\">\n",
       "      <th></th>\n",
       "      <th>Daily Change 1</th>\n",
       "      <th>Daily Change 2</th>\n",
       "      <th>Daily Change 3</th>\n",
       "      <th>Daily Change 4</th>\n",
       "      <th>Daily Change 5</th>\n",
       "      <th>Daily Change 6</th>\n",
       "      <th>Daily Change 7</th>\n",
       "      <th>Daily Change 8</th>\n",
       "      <th>Daily Change 9</th>\n",
       "      <th>Target</th>\n",
       "    </tr>\n",
       "  </thead>\n",
       "  <tbody>\n",
       "    <tr>\n",
       "      <th>0</th>\n",
       "      <td>0.000000</td>\n",
       "      <td>-1.580017</td>\n",
       "      <td>-4.660034</td>\n",
       "      <td>-15.139954</td>\n",
       "      <td>-1.330017</td>\n",
       "      <td>23.330017</td>\n",
       "      <td>-17.270019</td>\n",
       "      <td>13.770019</td>\n",
       "      <td>12.309998</td>\n",
       "      <td>0</td>\n",
       "    </tr>\n",
       "    <tr>\n",
       "      <th>1</th>\n",
       "      <td>-1.580017</td>\n",
       "      <td>-4.660034</td>\n",
       "      <td>-15.139954</td>\n",
       "      <td>-1.330017</td>\n",
       "      <td>23.330017</td>\n",
       "      <td>-17.270019</td>\n",
       "      <td>13.770019</td>\n",
       "      <td>12.309998</td>\n",
       "      <td>23.729980</td>\n",
       "      <td>1</td>\n",
       "    </tr>\n",
       "    <tr>\n",
       "      <th>2</th>\n",
       "      <td>-4.660034</td>\n",
       "      <td>-15.139954</td>\n",
       "      <td>-1.330017</td>\n",
       "      <td>23.330017</td>\n",
       "      <td>-17.270019</td>\n",
       "      <td>13.770019</td>\n",
       "      <td>12.309998</td>\n",
       "      <td>23.729980</td>\n",
       "      <td>1.869995</td>\n",
       "      <td>1</td>\n",
       "    </tr>\n",
       "    <tr>\n",
       "      <th>3</th>\n",
       "      <td>-15.139954</td>\n",
       "      <td>-1.330017</td>\n",
       "      <td>23.330017</td>\n",
       "      <td>-17.270019</td>\n",
       "      <td>13.770019</td>\n",
       "      <td>12.309998</td>\n",
       "      <td>23.729980</td>\n",
       "      <td>1.869995</td>\n",
       "      <td>-12.979980</td>\n",
       "      <td>1</td>\n",
       "    </tr>\n",
       "    <tr>\n",
       "      <th>4</th>\n",
       "      <td>-1.330017</td>\n",
       "      <td>23.330017</td>\n",
       "      <td>-17.270019</td>\n",
       "      <td>13.770019</td>\n",
       "      <td>12.309998</td>\n",
       "      <td>23.729980</td>\n",
       "      <td>1.869995</td>\n",
       "      <td>-12.979980</td>\n",
       "      <td>10.700012</td>\n",
       "      <td>0</td>\n",
       "    </tr>\n",
       "    <tr>\n",
       "      <th>5</th>\n",
       "      <td>23.330017</td>\n",
       "      <td>-17.270019</td>\n",
       "      <td>13.770019</td>\n",
       "      <td>12.309998</td>\n",
       "      <td>23.729980</td>\n",
       "      <td>1.869995</td>\n",
       "      <td>-12.979980</td>\n",
       "      <td>10.700012</td>\n",
       "      <td>-2.369995</td>\n",
       "      <td>0</td>\n",
       "    </tr>\n",
       "    <tr>\n",
       "      <th>6</th>\n",
       "      <td>-17.270019</td>\n",
       "      <td>13.770019</td>\n",
       "      <td>12.309998</td>\n",
       "      <td>23.729980</td>\n",
       "      <td>1.869995</td>\n",
       "      <td>-12.979980</td>\n",
       "      <td>10.700012</td>\n",
       "      <td>-2.369995</td>\n",
       "      <td>-0.950012</td>\n",
       "      <td>0</td>\n",
       "    </tr>\n",
       "    <tr>\n",
       "      <th>7</th>\n",
       "      <td>13.770019</td>\n",
       "      <td>12.309998</td>\n",
       "      <td>23.729980</td>\n",
       "      <td>1.869995</td>\n",
       "      <td>-12.979980</td>\n",
       "      <td>10.700012</td>\n",
       "      <td>-2.369995</td>\n",
       "      <td>-0.950012</td>\n",
       "      <td>3.289978</td>\n",
       "      <td>0</td>\n",
       "    </tr>\n",
       "    <tr>\n",
       "      <th>8</th>\n",
       "      <td>12.309998</td>\n",
       "      <td>23.729980</td>\n",
       "      <td>1.869995</td>\n",
       "      <td>-12.979980</td>\n",
       "      <td>10.700012</td>\n",
       "      <td>-2.369995</td>\n",
       "      <td>-0.950012</td>\n",
       "      <td>3.289978</td>\n",
       "      <td>-3.279969</td>\n",
       "      <td>0</td>\n",
       "    </tr>\n",
       "    <tr>\n",
       "      <th>9</th>\n",
       "      <td>23.729980</td>\n",
       "      <td>1.869995</td>\n",
       "      <td>-12.979980</td>\n",
       "      <td>10.700012</td>\n",
       "      <td>-2.369995</td>\n",
       "      <td>-0.950012</td>\n",
       "      <td>3.289978</td>\n",
       "      <td>-3.279969</td>\n",
       "      <td>5.739991</td>\n",
       "      <td>0</td>\n",
       "    </tr>\n",
       "  </tbody>\n",
       "</table>\n",
       "</div>"
      ],
      "text/plain": [
       "   Daily Change 1  Daily Change 2  Daily Change 3  Daily Change 4  \\\n",
       "0        0.000000       -1.580017       -4.660034      -15.139954   \n",
       "1       -1.580017       -4.660034      -15.139954       -1.330017   \n",
       "2       -4.660034      -15.139954       -1.330017       23.330017   \n",
       "3      -15.139954       -1.330017       23.330017      -17.270019   \n",
       "4       -1.330017       23.330017      -17.270019       13.770019   \n",
       "5       23.330017      -17.270019       13.770019       12.309998   \n",
       "6      -17.270019       13.770019       12.309998       23.729980   \n",
       "7       13.770019       12.309998       23.729980        1.869995   \n",
       "8       12.309998       23.729980        1.869995      -12.979980   \n",
       "9       23.729980        1.869995      -12.979980       10.700012   \n",
       "\n",
       "   Daily Change 5  Daily Change 6  Daily Change 7  Daily Change 8  \\\n",
       "0       -1.330017       23.330017      -17.270019       13.770019   \n",
       "1       23.330017      -17.270019       13.770019       12.309998   \n",
       "2      -17.270019       13.770019       12.309998       23.729980   \n",
       "3       13.770019       12.309998       23.729980        1.869995   \n",
       "4       12.309998       23.729980        1.869995      -12.979980   \n",
       "5       23.729980        1.869995      -12.979980       10.700012   \n",
       "6        1.869995      -12.979980       10.700012       -2.369995   \n",
       "7      -12.979980       10.700012       -2.369995       -0.950012   \n",
       "8       10.700012       -2.369995       -0.950012        3.289978   \n",
       "9       -2.369995       -0.950012        3.289978       -3.279969   \n",
       "\n",
       "   Daily Change 9  Target  \n",
       "0       12.309998       0  \n",
       "1       23.729980       1  \n",
       "2        1.869995       1  \n",
       "3      -12.979980       1  \n",
       "4       10.700012       0  \n",
       "5       -2.369995       0  \n",
       "6       -0.950012       0  \n",
       "7        3.289978       0  \n",
       "8       -3.279969       0  \n",
       "9        5.739991       0  "
      ]
     },
     "execution_count": 36,
     "metadata": {},
     "output_type": "execute_result"
    }
   ],
   "source": [
    "df3.head(10)"
   ]
  },
  {
   "cell_type": "code",
   "execution_count": null,
   "metadata": {},
   "outputs": [],
   "source": [
    "# from here onwards the train test split and classification begins"
   ]
  },
  {
   "cell_type": "code",
   "execution_count": 37,
   "metadata": {},
   "outputs": [],
   "source": [
    "X=df3.drop(\"Target\",axis=1)\n",
    "y=df3[\"Target\"]\n",
    "\n",
    "split_start=2000\n",
    "split_index= 2300\n",
    "split_end= 2500\n",
    "\n",
    "X_train = X.loc[split_start:split_index]\n",
    "X_test= X.loc[split_index:split_end]\n",
    "\n",
    "y_train=y.loc[split_start:split_index]\n",
    "y_test= y.loc[split_index:split_end]"
   ]
  },
  {
   "cell_type": "code",
   "execution_count": 38,
   "metadata": {},
   "outputs": [
    {
     "name": "stdout",
     "output_type": "stream",
     "text": [
      "215 \n",
      " 86\n"
     ]
    }
   ],
   "source": [
    "print(sum(y_train==0),'\\n',\n",
    "sum(y_train==1))"
   ]
  },
  {
   "cell_type": "code",
   "execution_count": 39,
   "metadata": {},
   "outputs": [
    {
     "name": "stdout",
     "output_type": "stream",
     "text": [
      "150 \n",
      " 51\n"
     ]
    }
   ],
   "source": [
    "print(sum(y_test==0),'\\n',\n",
    "sum(y_test==1))"
   ]
  },
  {
   "cell_type": "code",
   "execution_count": 40,
   "metadata": {},
   "outputs": [],
   "source": [
    "from sklearn.metrics import confusion_matrix,classification_report\n",
    "from sklearn.ensemble import RandomForestClassifier\n",
    "rfc = RandomForestClassifier(n_estimators=10)\n",
    "rfc.fit(X_train,y_train)\n",
    "rfc_pred = rfc.predict(X_test)"
   ]
  },
  {
   "cell_type": "code",
   "execution_count": null,
   "metadata": {},
   "outputs": [],
   "source": [
    "# random forest"
   ]
  },
  {
   "cell_type": "code",
   "execution_count": 41,
   "metadata": {},
   "outputs": [
    {
     "name": "stdout",
     "output_type": "stream",
     "text": [
      "Random Forrest Results\n",
      "[[134  16]\n",
      " [ 44   7]]\n",
      "              precision    recall  f1-score   support\n",
      "\n",
      "           0       0.75      0.89      0.82       150\n",
      "           1       0.30      0.14      0.19        51\n",
      "\n",
      "   micro avg       0.70      0.70      0.70       201\n",
      "   macro avg       0.53      0.52      0.50       201\n",
      "weighted avg       0.64      0.70      0.66       201\n",
      "\n"
     ]
    }
   ],
   "source": [
    "print(\"Random Forrest Results\")\n",
    "print(confusion_matrix(y_test,rfc_pred))\n",
    "print(classification_report(y_test,rfc_pred))"
   ]
  },
  {
   "cell_type": "code",
   "execution_count": null,
   "metadata": {},
   "outputs": [],
   "source": [
    "# logistic regression"
   ]
  },
  {
   "cell_type": "code",
   "execution_count": 42,
   "metadata": {},
   "outputs": [
    {
     "name": "stdout",
     "output_type": "stream",
     "text": [
      "Logistic Regression Results\n",
      "[[150   0]\n",
      " [ 51   0]]\n",
      "              precision    recall  f1-score   support\n",
      "\n",
      "           0       0.75      1.00      0.85       150\n",
      "           1       0.00      0.00      0.00        51\n",
      "\n",
      "   micro avg       0.75      0.75      0.75       201\n",
      "   macro avg       0.37      0.50      0.43       201\n",
      "weighted avg       0.56      0.75      0.64       201\n",
      "\n"
     ]
    },
    {
     "name": "stderr",
     "output_type": "stream",
     "text": [
      "C:\\Users\\Humayra Shoshi\\AppData\\Local\\Continuum\\anaconda3\\lib\\site-packages\\sklearn\\metrics\\classification.py:1143: UndefinedMetricWarning: Precision and F-score are ill-defined and being set to 0.0 in labels with no predicted samples.\n",
      "  'precision', 'predicted', average, warn_for)\n",
      "C:\\Users\\Humayra Shoshi\\AppData\\Local\\Continuum\\anaconda3\\lib\\site-packages\\sklearn\\metrics\\classification.py:1143: UndefinedMetricWarning: Precision and F-score are ill-defined and being set to 0.0 in labels with no predicted samples.\n",
      "  'precision', 'predicted', average, warn_for)\n",
      "C:\\Users\\Humayra Shoshi\\AppData\\Local\\Continuum\\anaconda3\\lib\\site-packages\\sklearn\\metrics\\classification.py:1143: UndefinedMetricWarning: Precision and F-score are ill-defined and being set to 0.0 in labels with no predicted samples.\n",
      "  'precision', 'predicted', average, warn_for)\n"
     ]
    }
   ],
   "source": [
    "from sklearn.linear_model import LogisticRegression\n",
    "logistic_model = LogisticRegression(solver='lbfgs')\n",
    "logistic_model.fit(X_train, y_train)\n",
    "predictions = logistic_model.predict(X_test)\n",
    "\n",
    "print(\"Logistic Regression Results\")\n",
    "print(confusion_matrix(y_test, predictions))\n",
    "print(classification_report(y_test, predictions))"
   ]
  },
  {
   "cell_type": "code",
   "execution_count": null,
   "metadata": {},
   "outputs": [],
   "source": [
    "# table 2\n",
    "print(df['Date'].iloc[200]) #  5 months training data, 1 months testing\n",
    "print(df['Date'].iloc[300])\n",
    "print(df['Date'].iloc[320])"
   ]
  },
  {
   "cell_type": "code",
   "execution_count": null,
   "metadata": {},
   "outputs": [],
   "source": [
    "# table 3\n",
    "print(df['Date'].iloc[350]) #  7 months training data, 2 months testing\n",
    "print(df['Date'].iloc[500])\n",
    "print(df['Date'].iloc[540])"
   ]
  },
  {
   "cell_type": "code",
   "execution_count": null,
   "metadata": {},
   "outputs": [],
   "source": [
    "# table 4\n",
    "print(df['Date'].iloc[450]) #  5... months training data, 2 months testing\n",
    "print(df['Date'].iloc[555])\n",
    "print(df['Date'].iloc[595])"
   ]
  },
  {
   "cell_type": "code",
   "execution_count": null,
   "metadata": {},
   "outputs": [],
   "source": [
    "# table 5\n",
    "print(df['Date'].iloc[490]) #  4 months training data, 1 months testing\n",
    "print(df['Date'].iloc[575])\n",
    "print(df['Date'].iloc[600])"
   ]
  },
  {
   "cell_type": "code",
   "execution_count": null,
   "metadata": {},
   "outputs": [],
   "source": [
    "# table 6 for duration\n",
    "print(df['Date'].iloc[700]) #  \n",
    "print(df['Date'].iloc[765])\n",
    "print(df['Date'].iloc[785])"
   ]
  },
  {
   "cell_type": "code",
   "execution_count": null,
   "metadata": {},
   "outputs": [],
   "source": [
    "# no target=1 was obtained between 8/2014-12/2014, so table was not constructed\n",
    "# table 6\n",
    "print(df['Date'].iloc[700]) #  9 months training data, 3 months testing\n",
    "print(df['Date'].iloc[890])\n",
    "print(df['Date'].iloc[955])"
   ]
  },
  {
   "cell_type": "code",
   "execution_count": null,
   "metadata": {},
   "outputs": [],
   "source": [
    "# table 7 for duration\n",
    "print(df['Date'].iloc[785]) #  \n",
    "print(df['Date'].iloc[915])\n",
    "print(df['Date'].iloc[935])"
   ]
  },
  {
   "cell_type": "code",
   "execution_count": null,
   "metadata": {},
   "outputs": [],
   "source": [
    "# table 7\n",
    "print(df['Date'].iloc[800]) #  7 months training data, 2 months testing\n",
    "print(df['Date'].iloc[950])\n",
    "print(df['Date'].iloc[990])"
   ]
  },
  {
   "cell_type": "code",
   "execution_count": null,
   "metadata": {},
   "outputs": [],
   "source": [
    "# table 8 for duration\n",
    "print(df['Date'].iloc[950]) #  \n",
    "print(df['Date'].iloc[990])\n",
    "print(df['Date'].iloc[1005])"
   ]
  },
  {
   "cell_type": "code",
   "execution_count": null,
   "metadata": {},
   "outputs": [],
   "source": [
    "# table 8\n",
    "print(df['Date'].iloc[990]) #  5 months training data,1  months testing\n",
    "print(df['Date'].iloc[1095])\n",
    "print(df['Date'].iloc[1120])"
   ]
  },
  {
   "cell_type": "code",
   "execution_count": null,
   "metadata": {},
   "outputs": [],
   "source": [
    "# table 9 for duration\n",
    "print(df['Date'].iloc[1007]) # results are poor \n",
    "print(df['Date'].iloc[1095])\n",
    "print(df['Date'].iloc[1135])"
   ]
  },
  {
   "cell_type": "code",
   "execution_count": null,
   "metadata": {},
   "outputs": [],
   "source": [
    "# table 9\n",
    "print(df['Date'].iloc[1120]) #  5 months training data,1  months testing\n",
    "print(df['Date'].iloc[1225])\n",
    "print(df['Date'].iloc[1250])"
   ]
  },
  {
   "cell_type": "code",
   "execution_count": null,
   "metadata": {},
   "outputs": [],
   "source": [
    "# table 10 duration\n",
    "print(df['Date'].iloc[1120]) #  \n",
    "print(df['Date'].iloc[1185])\n",
    "print(df['Date'].iloc[1210])"
   ]
  },
  {
   "cell_type": "code",
   "execution_count": null,
   "metadata": {},
   "outputs": [],
   "source": [
    "# table 10\n",
    "print(df['Date'].iloc[1175]) #  4 months training data,1...  months testing\n",
    "print(df['Date'].iloc[1250])\n",
    "print(df['Date'].iloc[1275])"
   ]
  },
  {
   "cell_type": "code",
   "execution_count": null,
   "metadata": {},
   "outputs": [],
   "source": [
    "# table 11 duration\n",
    "print(df['Date'].iloc[1210]) \n",
    "print(df['Date'].iloc[1265])\n",
    "print(df['Date'].iloc[1285])"
   ]
  },
  {
   "cell_type": "code",
   "execution_count": null,
   "metadata": {},
   "outputs": [],
   "source": [
    "# table 11, table 12 for duration\n",
    "print(df['Date'].iloc[1199]) #   months training data,  months testing\n",
    "print(df['Date'].iloc[1300])\n",
    "print(df['Date'].iloc[1328])"
   ]
  },
  {
   "cell_type": "code",
   "execution_count": null,
   "metadata": {},
   "outputs": [],
   "source": []
  },
  {
   "cell_type": "code",
   "execution_count": null,
   "metadata": {},
   "outputs": [],
   "source": []
  },
  {
   "cell_type": "code",
   "execution_count": null,
   "metadata": {},
   "outputs": [],
   "source": []
  }
 ],
 "metadata": {
  "kernelspec": {
   "display_name": "Python 3",
   "language": "python",
   "name": "python3"
  },
  "language_info": {
   "codemirror_mode": {
    "name": "ipython",
    "version": 3
   },
   "file_extension": ".py",
   "mimetype": "text/x-python",
   "name": "python",
   "nbconvert_exporter": "python",
   "pygments_lexer": "ipython3",
   "version": "3.7.1"
  }
 },
 "nbformat": 4,
 "nbformat_minor": 2
}
